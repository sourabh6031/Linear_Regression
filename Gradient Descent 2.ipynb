{
 "cells": [
  {
   "cell_type": "code",
   "execution_count": 1,
   "id": "ab40c495",
   "metadata": {},
   "outputs": [],
   "source": [
    "\n",
    "from sklearn.datasets import make_regression\n",
    "import matplotlib.pyplot as plt\n",
    "import numpy as np\n",
    "from sklearn.model_selection import cross_val_score"
   ]
  },
  {
   "cell_type": "code",
   "execution_count": 2,
   "id": "c5dd4e22",
   "metadata": {},
   "outputs": [],
   "source": [
    "X,y = make_regression(n_samples=100, n_features=1, n_informative=1, n_targets=1,noise=20,random_state=13)"
   ]
  },
  {
   "cell_type": "code",
   "execution_count": 4,
   "id": "8e6e4654",
   "metadata": {
    "scrolled": true
   },
   "outputs": [
    {
     "data": {
      "text/plain": [
       "array([[-0.71239066],\n",
       "       [-0.43714566],\n",
       "       [-0.45375238],\n",
       "       [ 0.95283061],\n",
       "       [ 0.23785784],\n",
       "       [ 0.86121137],\n",
       "       [-0.24332625],\n",
       "       [ 0.18494595],\n",
       "       [-0.72099967],\n",
       "       [-0.42989708],\n",
       "       [ 2.01522083],\n",
       "       [ 0.39724133],\n",
       "       [ 0.20780005],\n",
       "       [-0.23242587],\n",
       "       [-0.76862702],\n",
       "       [ 0.45315861],\n",
       "       [ 0.63988397],\n",
       "       [ 0.3595323 ],\n",
       "       [-1.61510796],\n",
       "       [ 1.74924179],\n",
       "       [-0.78898902],\n",
       "       [-0.51196509],\n",
       "       [-0.92833523],\n",
       "       [ 2.15038297],\n",
       "       [-0.2073497 ],\n",
       "       [-1.63909341],\n",
       "       [-0.33861825],\n",
       "       [-0.32212366],\n",
       "       [-0.48137142],\n",
       "       [-0.52316421],\n",
       "       [ 0.72196506],\n",
       "       [ 0.76591105],\n",
       "       [ 0.45348104],\n",
       "       [-1.26160595],\n",
       "       [-2.18711527],\n",
       "       [-1.18541881],\n",
       "       [ 0.21745166],\n",
       "       [ 1.33031692],\n",
       "       [-1.08718159],\n",
       "       [ 0.56226171],\n",
       "       [-1.51284512],\n",
       "       [-0.00238903],\n",
       "       [-0.27813452],\n",
       "       [ 0.45181234],\n",
       "       [ 1.19070527],\n",
       "       [ 0.92234415],\n",
       "       [ 0.81499544],\n",
       "       [-0.6209797 ],\n",
       "       [ 0.9137407 ],\n",
       "       [ 1.13833305],\n",
       "       [ 1.47868574],\n",
       "       [-0.65105648],\n",
       "       [-0.37591996],\n",
       "       [-0.77466003],\n",
       "       [ 0.50113729],\n",
       "       [ 1.3501879 ],\n",
       "       [ 0.72916547],\n",
       "       [-0.08165156],\n",
       "       [-0.85414295],\n",
       "       [ 0.46565797],\n",
       "       [-0.04450308],\n",
       "       [-0.05753239],\n",
       "       [ 1.89274222],\n",
       "       [-1.04537713],\n",
       "       [ 0.56465429],\n",
       "       [-1.92415945],\n",
       "       [-0.76403397],\n",
       "       [ 0.12730328],\n",
       "       [-0.02677165],\n",
       "       [-0.14521133],\n",
       "       [ 0.56284679],\n",
       "       [ 0.31735092],\n",
       "       [ 0.71097479],\n",
       "       [ 0.75376638],\n",
       "       [-0.37011608],\n",
       "       [ 1.34510171],\n",
       "       [ 0.53233789],\n",
       "       [-0.98416078],\n",
       "       [ 1.350306  ],\n",
       "       [-0.34660679],\n",
       "       [ 0.51432886],\n",
       "       [ 0.10126979],\n",
       "       [-0.65751727],\n",
       "       [ 0.83090566],\n",
       "       [-0.31726597],\n",
       "       [-0.98027432],\n",
       "       [ 1.39923842],\n",
       "       [ 0.54791831],\n",
       "       [-0.53032741],\n",
       "       [ 0.49087183],\n",
       "       [ 0.34875059],\n",
       "       [ 2.05369324],\n",
       "       [ 0.60628866],\n",
       "       [-0.38445769],\n",
       "       [-1.94539068],\n",
       "       [-0.31485808],\n",
       "       [ 1.84961257],\n",
       "       [-1.12050687],\n",
       "       [-0.33267578],\n",
       "       [-0.75745323]])"
      ]
     },
     "execution_count": 4,
     "metadata": {},
     "output_type": "execute_result"
    }
   ],
   "source": [
    "X"
   ]
  },
  {
   "cell_type": "code",
   "execution_count": 5,
   "id": "d7167995",
   "metadata": {
    "scrolled": true
   },
   "outputs": [
    {
     "data": {
      "text/plain": [
       "array([-3.43198806e+01, -9.42120961e+00, -1.90881877e+01,  2.04372122e+01,\n",
       "        2.77559659e+01, -2.90750046e+00, -1.41987828e+01,  5.40025891e+00,\n",
       "       -2.64264302e+01, -3.49067872e+01,  3.73362043e+01,  1.28532816e+01,\n",
       "        2.50289888e+01, -1.89608736e+01, -2.34655852e+01,  3.77839324e+01,\n",
       "        6.69670792e+00, -5.57201352e+00, -4.92158778e+01,  1.59474399e+01,\n",
       "       -4.29667324e+01,  6.09015466e+00, -2.53194769e+01,  6.28216706e+01,\n",
       "        1.24870400e+01, -3.27136530e+01, -1.88255476e+01, -2.93912926e+01,\n",
       "       -2.86886731e+01,  4.38924069e+00,  4.63542396e+01,  2.43919519e+01,\n",
       "        3.79848517e+01, -3.45767718e+01, -6.18736296e+01, -4.64421597e+01,\n",
       "       -6.88808416e+00,  3.96988084e+01, -3.52373298e+01,  8.36850884e+00,\n",
       "       -3.96814412e+01,  8.27318308e+00, -4.40722161e+00, -3.01350607e+00,\n",
       "        5.78213629e+01,  2.46525603e+01,  1.81131707e+01, -5.22849035e+01,\n",
       "        3.59187182e+01,  1.58411788e+01,  2.40080546e+01, -2.51245994e+01,\n",
       "       -4.39284313e+01,  1.73925049e+01,  1.50322799e+01,  3.78339073e+01,\n",
       "        6.33015059e+00,  5.07266140e+00, -5.57047189e+00,  1.98411137e+01,\n",
       "        7.04149700e+00, -1.89353310e+01,  3.48047372e+01, -5.71391242e+01,\n",
       "        3.10524837e+01, -7.57291461e+01, -4.43062883e+01,  2.12404103e+01,\n",
       "       -1.86288622e-01, -2.85657165e+01, -7.39169323e+00,  2.52239775e+01,\n",
       "        3.25432136e+01,  2.93379129e-01, -1.86381423e+01,  3.93501682e+01,\n",
       "        2.54005098e+00, -4.86320699e+01,  5.42818051e+01, -1.02170910e+01,\n",
       "       -5.66921620e+00,  2.34628620e+01, -6.92299670e-02,  5.63079459e+00,\n",
       "       -9.68771368e+00, -4.46638656e+01,  3.27083097e+01,  1.81174790e+01,\n",
       "       -1.61432262e+01,  4.50414413e+01,  2.27466324e+01,  3.71085471e+01,\n",
       "        1.24760264e+01, -3.58452002e+01, -2.86386661e+01, -2.79790662e+01,\n",
       "        6.41794705e+01, -6.07154394e+01,  2.22333646e+01, -2.40222151e+00])"
      ]
     },
     "execution_count": 5,
     "metadata": {},
     "output_type": "execute_result"
    }
   ],
   "source": [
    "y"
   ]
  },
  {
   "cell_type": "code",
   "execution_count": 6,
   "id": "8d28354a",
   "metadata": {},
   "outputs": [
    {
     "data": {
      "text/plain": [
       "<matplotlib.collections.PathCollection at 0x1c375255c10>"
      ]
     },
     "execution_count": 6,
     "metadata": {},
     "output_type": "execute_result"
    },
    {
     "data": {
      "image/png": "[encoded data removed]",
      "text/plain": [
       "<Figure size 432x288 with 1 Axes>"
      ]
     },
     "metadata": {
      "needs_background": "light"
     },
     "output_type": "display_data"
    }
   ],
   "source": [
    "plt.scatter(X,y)"
   ]
  },
  {
   "cell_type": "code",
   "execution_count": 7,
   "id": "bc9f081b",
   "metadata": {},
   "outputs": [],
   "source": [
    "from sklearn.model_selection import train_test_split\n",
    "X_train,X_test,y_train,y_test = train_test_split(X,y,test_size=0.2,random_state=2)"
   ]
  },
  {
   "cell_type": "code",
   "execution_count": 8,
   "id": "8e5ce1cc",
   "metadata": {},
   "outputs": [],
   "source": [
    "from sklearn.linear_model import LinearRegression"
   ]
  },
  {
   "cell_type": "code",
   "execution_count": 9,
   "id": "981f8d5a",
   "metadata": {},
   "outputs": [],
   "source": [
    "lr = LinearRegression()"
   ]
  },
  {
   "cell_type": "code",
   "execution_count": 10,
   "id": "ea07df06",
   "metadata": {},
   "outputs": [
    {
     "data": {
      "text/plain": [
       "LinearRegression()"
      ]
     },
     "execution_count": 10,
     "metadata": {},
     "output_type": "execute_result"
    }
   ],
   "source": [
    "lr.fit(X_train,y_train)"
   ]
  },
  {
   "cell_type": "code",
   "execution_count": 11,
   "id": "693dfa70",
   "metadata": {},
   "outputs": [
    {
     "data": {
      "text/plain": [
       "array([28.12597332])"
      ]
     },
     "execution_count": 11,
     "metadata": {},
     "output_type": "execute_result"
    }
   ],
   "source": [
    "lr.coef_"
   ]
  },
  {
   "cell_type": "code",
   "execution_count": 30,
   "id": "12f203c6",
   "metadata": {},
   "outputs": [
    {
     "data": {
      "text/plain": [
       "-2.2710144261783825"
      ]
     },
     "execution_count": 30,
     "metadata": {},
     "output_type": "execute_result"
    }
   ],
   "source": [
    "lr.intercept_"
   ]
  },
  {
   "cell_type": "code",
   "execution_count": 13,
   "id": "86aef8f5",
   "metadata": {},
   "outputs": [
    {
     "data": {
      "text/plain": [
       "0.6345158782661012"
      ]
     },
     "execution_count": 13,
     "metadata": {},
     "output_type": "execute_result"
    }
   ],
   "source": [
    "from sklearn.metrics import r2_score\n",
    "y_pred = lr.predict(X_test)\n",
    "r2_score(y_test,y_pred)"
   ]
  },
  {
   "cell_type": "code",
   "execution_count": null,
   "id": "865ee091",
   "metadata": {},
   "outputs": [],
   "source": []
  },
  {
   "cell_type": "markdown",
   "id": "8bea0789",
   "metadata": {},
   "source": [
    "### MAKING LINEAR REGRESSION CLASS"
   ]
  },
  {
   "cell_type": "code",
   "execution_count": 35,
   "id": "39f33dcf",
   "metadata": {},
   "outputs": [],
   "source": [
    "class GDregressor:\n",
    "    \n",
    "    def __init__(self,learning_rate,epochs):\n",
    "        self.learning_rate = learning_rate\n",
    "        self.epochs = epochs\n",
    "        self.m = 100\n",
    "        self.b = -120\n",
    "    \n",
    "    def fit(self,X,y):\n",
    "        # calcualte the b using GD\n",
    "        for i in range(self.epochs):\n",
    "            loss_slope_b = -2 * np.sum(y - self.m*X.ravel() - self.b)\n",
    "            loss_slope_m = -2 * np.sum((y - self.m*X.ravel() - self.b)*X.ravel())\n",
    "            \n",
    "            self.b = self.b - (self.learning_rate * loss_slope_b)\n",
    "            self.m = self.m - (self.learning_rate * loss_slope_m)\n",
    "        print(self.m,self.b)\n",
    "            \n",
    "    def predict(self,X):\n",
    "        return self.m * X + self.b      \n",
    "    \n",
    "        "
   ]
  },
  {
   "cell_type": "code",
   "execution_count": 36,
   "id": "8ba52aba",
   "metadata": {
    "scrolled": true
   },
   "outputs": [
    {
     "name": "stdout",
     "output_type": "stream",
     "text": [
      "27.828091032520142 -2.2947445586769826\n"
     ]
    }
   ],
   "source": [
    "gd = GDregressor(0.001,200)\n",
    "gd.fit(X,y)"
   ]
  },
  {
   "cell_type": "code",
   "execution_count": 37,
   "id": "a2d51e9a",
   "metadata": {},
   "outputs": [
    {
     "data": {
      "text/plain": [
       "0.6357827506345679"
      ]
     },
     "execution_count": 37,
     "metadata": {},
     "output_type": "execute_result"
    }
   ],
   "source": [
    "y_pred = gd.predict(X_test)\n",
    "from sklearn.metrics import r2_score\n",
    "r2_score(y_test,y_pred)"
   ]
  },
  {
   "cell_type": "code",
   "execution_count": null,
   "id": "805172e6",
   "metadata": {},
   "outputs": [],
   "source": []
  },
  {
   "cell_type": "code",
   "execution_count": null,
   "id": "b09df4ea",
   "metadata": {},
   "outputs": [],
   "source": []
  },
  {
   "cell_type": "code",
   "execution_count": null,
   "id": "1f391328",
   "metadata": {},
   "outputs": [],
   "source": []
  },
  {
   "cell_type": "code",
   "execution_count": null,
   "id": "917f08d0",
   "metadata": {},
   "outputs": [],
   "source": []
  },
  {
   "cell_type": "code",
   "execution_count": null,
   "id": "3c3f261b",
   "metadata": {},
   "outputs": [],
   "source": []
  },
  {
   "cell_type": "code",
   "execution_count": null,
   "id": "ca119a9d",
   "metadata": {},
   "outputs": [],
   "source": []
  },
  {
   "cell_type": "code",
   "execution_count": null,
   "id": "86e85cd0",
   "metadata": {},
   "outputs": [],
   "source": []
  },
  {
   "cell_type": "code",
   "execution_count": null,
   "id": "9f6285c3",
   "metadata": {},
   "outputs": [],
   "source": []
  }
 ],
 "metadata": {
  "kernelspec": {
   "display_name": "Python 3 (ipykernel)",
   "language": "python",
   "name": "python3"
  },
  "language_info": {
   "codemirror_mode": {
    "name": "ipython",
    "version": 3
   },
   "file_extension": ".py",
   "mimetype": "text/x-python",
   "name": "python",
   "nbconvert_exporter": "python",
   "pygments_lexer": "ipython3",
   "version": "3.9.12"
  }
 },
 "nbformat": 4,
 "nbformat_minor": 5
}

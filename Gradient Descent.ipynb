{
 "cells": [
  {
   "cell_type": "code",
   "execution_count": null,
   "id": "9db66650",
   "metadata": {},
   "outputs": [],
   "source": [
    "# youtube = https://www.youtube.com/watch?v=ORyfPJypKuU"
   ]
  },
  {
   "cell_type": "code",
   "execution_count": 1,
   "id": "60147012",
   "metadata": {},
   "outputs": [],
   "source": [
    "from sklearn.datasets import make_regression\n",
    "import numpy as np\n",
    "import matplotlib.pyplot as plt"
   ]
  },
  {
   "cell_type": "code",
   "execution_count": 2,
   "id": "56133310",
   "metadata": {},
   "outputs": [],
   "source": [
    "X,y = make_regression(n_samples=4, n_features=1, n_informative=1, n_targets=1,noise=80,random_state=13)"
   ]
  },
  {
   "cell_type": "code",
   "execution_count": 3,
   "id": "72a4da2e",
   "metadata": {},
   "outputs": [
    {
     "data": {
      "text/plain": [
       "array([[-0.71239066],\n",
       "       [ 0.45181234],\n",
       "       [-0.04450308],\n",
       "       [ 0.75376638]])"
      ]
     },
     "execution_count": 3,
     "metadata": {},
     "output_type": "execute_result"
    }
   ],
   "source": [
    "X"
   ]
  },
  {
   "cell_type": "code",
   "execution_count": 4,
   "id": "d026b012",
   "metadata": {},
   "outputs": [
    {
     "data": {
      "text/plain": [
       "array([  7.21786552,  16.04609925, -27.83756166, 144.36688189])"
      ]
     },
     "execution_count": 4,
     "metadata": {},
     "output_type": "execute_result"
    }
   ],
   "source": [
    "y"
   ]
  },
  {
   "cell_type": "code",
   "execution_count": 5,
   "id": "c0447a84",
   "metadata": {},
   "outputs": [
    {
     "data": {
      "text/plain": [
       "<matplotlib.collections.PathCollection at 0x19fed771460>"
      ]
     },
     "execution_count": 5,
     "metadata": {},
     "output_type": "execute_result"
    },
    {
     "data": {
      "image/png": "[encoded data removed]",
      "text/plain": [
       "<Figure size 432x288 with 1 Axes>"
      ]
     },
     "metadata": {
      "needs_background": "light"
     },
     "output_type": "display_data"
    }
   ],
   "source": [
    "plt.scatter(X,y)"
   ]
  },
  {
   "cell_type": "code",
   "execution_count": null,
   "id": "71aaf601",
   "metadata": {},
   "outputs": [],
   "source": []
  },
  {
   "cell_type": "code",
   "execution_count": 6,
   "id": "8330d0d4",
   "metadata": {},
   "outputs": [],
   "source": [
    "from sklearn.linear_model import LinearRegression"
   ]
  },
  {
   "cell_type": "code",
   "execution_count": 7,
   "id": "310ff389",
   "metadata": {},
   "outputs": [
    {
     "data": {
      "text/plain": [
       "LinearRegression()"
      ]
     },
     "execution_count": 7,
     "metadata": {},
     "output_type": "execute_result"
    }
   ],
   "source": [
    "reg = LinearRegression()\n",
    "reg.fit(X,y)"
   ]
  },
  {
   "cell_type": "code",
   "execution_count": 8,
   "id": "26f57d82",
   "metadata": {},
   "outputs": [
    {
     "data": {
      "text/plain": [
       "array([[-0.71239066],\n",
       "       [ 0.45181234],\n",
       "       [-0.04450308],\n",
       "       [ 0.75376638]])"
      ]
     },
     "execution_count": 8,
     "metadata": {},
     "output_type": "execute_result"
    }
   ],
   "source": [
    "X"
   ]
  },
  {
   "cell_type": "code",
   "execution_count": 9,
   "id": "90037166",
   "metadata": {},
   "outputs": [
    {
     "data": {
      "text/plain": [
       "array([78.35063668])"
      ]
     },
     "execution_count": 9,
     "metadata": {},
     "output_type": "execute_result"
    }
   ],
   "source": [
    "reg.coef_"
   ]
  },
  {
   "cell_type": "code",
   "execution_count": 11,
   "id": "00f5c683",
   "metadata": {},
   "outputs": [
    {
     "data": {
      "text/plain": [
       "26.15963284313262"
      ]
     },
     "execution_count": 11,
     "metadata": {},
     "output_type": "execute_result"
    }
   ],
   "source": [
    "reg.intercept_"
   ]
  },
  {
   "cell_type": "code",
   "execution_count": 12,
   "id": "3c51cbe3",
   "metadata": {},
   "outputs": [
    {
     "data": {
      "text/plain": [
       "array([-29.65662909,  61.55941724,  22.67278832,  85.21770852])"
      ]
     },
     "execution_count": 12,
     "metadata": {},
     "output_type": "execute_result"
    }
   ],
   "source": [
    "reg.predict(X)"
   ]
  },
  {
   "cell_type": "code",
   "execution_count": 13,
   "id": "22de6c8b",
   "metadata": {},
   "outputs": [
    {
     "data": {
      "text/plain": [
       "[<matplotlib.lines.Line2D at 0x19fefb3f9d0>]"
      ]
     },
     "execution_count": 13,
     "metadata": {},
     "output_type": "execute_result"
    },
    {
     "data": {
      "image/png": "[encoded data removed]",
      "text/plain": [
       "<Figure size 432x288 with 1 Axes>"
      ]
     },
     "metadata": {
      "needs_background": "light"
     },
     "output_type": "display_data"
    }
   ],
   "source": [
    "plt.scatter(X,y)\n",
    "plt.plot(X,reg.predict(X),color='r')"
   ]
  },
  {
   "cell_type": "code",
   "execution_count": 14,
   "id": "e9fae8e1",
   "metadata": {},
   "outputs": [],
   "source": [
    "# Lets apply Gradient Descent assuming slope is constant m = 78.35\n",
    "# and let's assume the starting value for intercept b = 100\n",
    "y_pred = ((78.35 * X) + 100).reshape(4)"
   ]
  },
  {
   "cell_type": "code",
   "execution_count": 15,
   "id": "c58d359e",
   "metadata": {},
   "outputs": [
    {
     "data": {
      "text/plain": [
       "array([ 44.18419163, 135.39949674,  96.51318381, 159.05759577])"
      ]
     },
     "execution_count": 15,
     "metadata": {},
     "output_type": "execute_result"
    }
   ],
   "source": [
    "y_pred"
   ]
  },
  {
   "cell_type": "code",
   "execution_count": 16,
   "id": "c3560993",
   "metadata": {},
   "outputs": [
    {
     "data": {
      "text/plain": [
       "array([[-0.71239066],\n",
       "       [ 0.45181234],\n",
       "       [-0.04450308],\n",
       "       [ 0.75376638]])"
      ]
     },
     "execution_count": 16,
     "metadata": {},
     "output_type": "execute_result"
    }
   ],
   "source": [
    "X"
   ]
  },
  {
   "cell_type": "code",
   "execution_count": null,
   "id": "cc62e487",
   "metadata": {},
   "outputs": [],
   "source": []
  },
  {
   "cell_type": "code",
   "execution_count": 17,
   "id": "3a5fd80b",
   "metadata": {},
   "outputs": [
    {
     "data": {
      "image/png": "[encoded data removed]",
      "text/plain": [
       "<Figure size 432x288 with 1 Axes>"
      ]
     },
     "metadata": {
      "needs_background": "light"
     },
     "output_type": "display_data"
    }
   ],
   "source": [
    "plt.plot(X,reg.predict(X),color='r',label='reg_predicted')\n",
    "plt.plot(X,y_pred,color='#00a65a',label='calculated_pred')\n",
    "plt.legend()\n",
    "plt.show()"
   ]
  },
  {
   "cell_type": "code",
   "execution_count": null,
   "id": "f56ba149",
   "metadata": {},
   "outputs": [],
   "source": []
  },
  {
   "cell_type": "code",
   "execution_count": 18,
   "id": "3f29f7ab",
   "metadata": {},
   "outputs": [
    {
     "data": {
      "text/plain": [
       "-1009.2776340820922"
      ]
     },
     "execution_count": 18,
     "metadata": {},
     "output_type": "execute_result"
    }
   ],
   "source": [
    "# Lets assume slope(m) = 78.35 , intercept(b)= 100\n",
    "# loss function = -2 *np.sum(yi - (m*(xi) + c) )\n",
    "\n",
    "m=78.35\n",
    "b = 100\n",
    "loss = -2 * (np.sum(y - m*X.ravel() + b))\n",
    "loss"
   ]
  },
  {
   "cell_type": "code",
   "execution_count": null,
   "id": "374d8db4",
   "metadata": {},
   "outputs": [],
   "source": []
  },
  {
   "cell_type": "code",
   "execution_count": 19,
   "id": "667b0756",
   "metadata": {},
   "outputs": [
    {
     "data": {
      "text/plain": [
       "-100.92776340820922"
      ]
     },
     "execution_count": 19,
     "metadata": {},
     "output_type": "execute_result"
    }
   ],
   "source": [
    "# Lets take learning rate = 0.1\n",
    "lr = 0.1\n",
    "\n",
    "step_size = loss*lr\n",
    "step_size"
   ]
  },
  {
   "cell_type": "code",
   "execution_count": 20,
   "id": "1e940f47",
   "metadata": {},
   "outputs": [
    {
     "data": {
      "text/plain": [
       "200.92776340820922"
      ]
     },
     "execution_count": 20,
     "metadata": {},
     "output_type": "execute_result"
    }
   ],
   "source": [
    "# Calculating the new intercept\n",
    "b = b - step_size\n",
    "b"
   ]
  },
  {
   "cell_type": "code",
   "execution_count": 21,
   "id": "cc53198b",
   "metadata": {},
   "outputs": [
    {
     "data": {
      "text/plain": [
       "array([145.11195504, 236.32726015, 197.44094722, 259.98535918])"
      ]
     },
     "execution_count": 21,
     "metadata": {},
     "output_type": "execute_result"
    }
   ],
   "source": [
    "y_pred1 = ((78.35 * X) + b).reshape(4)\n",
    "y_pred1"
   ]
  },
  {
   "cell_type": "code",
   "execution_count": 22,
   "id": "101e1ec4",
   "metadata": {},
   "outputs": [
    {
     "data": {
      "image/png": "[encoded data removed]",
      "text/plain": [
       "<Figure size 432x288 with 1 Axes>"
      ]
     },
     "metadata": {
      "needs_background": "light"
     },
     "output_type": "display_data"
    }
   ],
   "source": [
    "plt.scatter(X,y)\n",
    "plt.plot(X,reg.predict(X),color='red',label='OLS')\n",
    "plt.plot(X,y_pred1,color='#00a65a',label='b = {}'.format(b))\n",
    "plt.plot(X,y_pred,color='#A3E4D7',label='b = 0')\n",
    "plt.legend()\n",
    "plt.show()"
   ]
  },
  {
   "cell_type": "code",
   "execution_count": 23,
   "id": "9f542a60",
   "metadata": {},
   "outputs": [
    {
     "data": {
      "text/plain": [
       "1398.1444731835818"
      ]
     },
     "execution_count": 23,
     "metadata": {},
     "output_type": "execute_result"
    }
   ],
   "source": [
    "# Iteration 2\n",
    "loss = -2 * np.sum(y - m*X.ravel() - b)\n",
    "loss"
   ]
  },
  {
   "cell_type": "code",
   "execution_count": 24,
   "id": "0b801d98",
   "metadata": {},
   "outputs": [
    {
     "data": {
      "text/plain": [
       "139.8144473183582"
      ]
     },
     "execution_count": 24,
     "metadata": {},
     "output_type": "execute_result"
    }
   ],
   "source": [
    "step_size = loss*lr\n",
    "step_size"
   ]
  },
  {
   "cell_type": "code",
   "execution_count": 25,
   "id": "9ac13fbc",
   "metadata": {},
   "outputs": [
    {
     "data": {
      "text/plain": [
       "61.113316089851025"
      ]
     },
     "execution_count": 25,
     "metadata": {},
     "output_type": "execute_result"
    }
   ],
   "source": [
    "# Calculating the new intercept\n",
    "b = b - step_size\n",
    "b"
   ]
  },
  {
   "cell_type": "code",
   "execution_count": 26,
   "id": "95cf364c",
   "metadata": {},
   "outputs": [
    {
     "data": {
      "text/plain": [
       "array([  5.29750772,  96.51281283,  57.6264999 , 120.17091186])"
      ]
     },
     "execution_count": 26,
     "metadata": {},
     "output_type": "execute_result"
    }
   ],
   "source": [
    "y_pred2 = ((78.35 * X) + b).reshape(4)\n",
    "y_pred2"
   ]
  },
  {
   "cell_type": "code",
   "execution_count": 29,
   "id": "846afdcc",
   "metadata": {},
   "outputs": [
    {
     "data": {
      "image/png": "[encoded data removed]",
      "text/plain": [
       "<Figure size 432x288 with 1 Axes>"
      ]
     },
     "metadata": {
      "needs_background": "light"
     },
     "output_type": "display_data"
    }
   ],
   "source": [
    "plt.scatter(X,y)\n",
    "plt.plot(X,reg.predict(X),color='red',label='OLS')\n",
    "plt.plot(X,y_pred2,color='b',label='b = {}'.format(b))\n",
    "plt.plot(X,y_pred1,color='#A3E4D7',label='b = {}'.format(b))\n",
    "plt.plot(X,y_pred,color='#A3E4D7',label='b = 0')\n",
    "plt.legend()\n",
    "plt.show()"
   ]
  },
  {
   "cell_type": "code",
   "execution_count": 30,
   "id": "0bae4803",
   "metadata": {},
   "outputs": [
    {
     "data": {
      "text/plain": [
       "279.62889463671604"
      ]
     },
     "execution_count": 30,
     "metadata": {},
     "output_type": "execute_result"
    }
   ],
   "source": [
    "loss = -2 * np.sum(y - m*X.ravel() - b)\n",
    "loss"
   ]
  },
  {
   "cell_type": "code",
   "execution_count": 31,
   "id": "34196c31",
   "metadata": {},
   "outputs": [
    {
     "data": {
      "text/plain": [
       "27.962889463671605"
      ]
     },
     "execution_count": 31,
     "metadata": {},
     "output_type": "execute_result"
    }
   ],
   "source": [
    "step_size = loss*lr\n",
    "step_size"
   ]
  },
  {
   "cell_type": "code",
   "execution_count": 32,
   "id": "526135aa",
   "metadata": {},
   "outputs": [
    {
     "data": {
      "text/plain": [
       "33.150426626179424"
      ]
     },
     "execution_count": 32,
     "metadata": {},
     "output_type": "execute_result"
    }
   ],
   "source": [
    "# Calculating the new intercept\n",
    "b = b - step_size\n",
    "b"
   ]
  },
  {
   "cell_type": "code",
   "execution_count": 33,
   "id": "6e6bae87",
   "metadata": {},
   "outputs": [
    {
     "data": {
      "text/plain": [
       "array([-22.66538175,  68.54992337,  29.66361044,  92.20802239])"
      ]
     },
     "execution_count": 33,
     "metadata": {},
     "output_type": "execute_result"
    }
   ],
   "source": [
    "y_pred3 = ((78.35 * X) + b).reshape(4)\n",
    "y_pred3"
   ]
  },
  {
   "cell_type": "code",
   "execution_count": 36,
   "id": "737ec3a2",
   "metadata": {},
   "outputs": [
    {
     "data": {
      "image/png": "[encoded data removed]",
      "text/plain": [
       "<Figure size 432x288 with 1 Axes>"
      ]
     },
     "metadata": {
      "needs_background": "light"
     },
     "output_type": "display_data"
    }
   ],
   "source": [
    "plt.scatter(X,y)\n",
    "plt.plot(X,reg.predict(X),color='red',label='OLS')\n",
    "plt.plot(X,y_pred2,color='b',label='b = {}'.format(b))\n",
    "plt.plot(X,y_pred3,color='y',label='b = {}'.format(b))\n",
    "\n",
    "plt.plot(X,y_pred1,color='#A3E4D1',label='b = {}'.format(b))\n",
    "plt.plot(X,y_pred,color='#A3E4D7',label='b = 0')\n",
    "plt.legend()\n",
    "plt.show()"
   ]
  },
  {
   "cell_type": "markdown",
   "id": "5d666382",
   "metadata": {},
   "source": [
    "#### we can see line is coming closer to red one that is actual one."
   ]
  },
  {
   "cell_type": "code",
   "execution_count": null,
   "id": "0f744446",
   "metadata": {},
   "outputs": [],
   "source": []
  },
  {
   "cell_type": "markdown",
   "id": "3751299d",
   "metadata": {},
   "source": [
    "### PUTTING IN ON LOOP"
   ]
  },
  {
   "cell_type": "code",
   "execution_count": 47,
   "id": "f18cb58c",
   "metadata": {},
   "outputs": [
    {
     "data": {
      "image/png": "[encoded data removed]",
      "text/plain": [
       "<Figure size 432x288 with 1 Axes>"
      ]
     },
     "metadata": {
      "needs_background": "light"
     },
     "output_type": "display_data"
    }
   ],
   "source": [
    "m = 78.35\n",
    "b = 50\n",
    "lr = 0.01\n",
    "epoch = 50\n",
    "\n",
    "for i in range(epoch):\n",
    "    loss_slope = -2 * np.sum(y - m*X.ravel() - b)\n",
    "    b = b -(lr*loss_slope)\n",
    "    y_pred = m*X + b\n",
    "    \n",
    "    plt.plot(X,y_pred)\n",
    "\n",
    "plt.show()\n"
   ]
  },
  {
   "cell_type": "code",
   "execution_count": null,
   "id": "31762699",
   "metadata": {},
   "outputs": [],
   "source": []
  }
 ],
 "metadata": {
  "kernelspec": {
   "display_name": "Python 3 (ipykernel)",
   "language": "python",
   "name": "python3"
  },
  "language_info": {
   "codemirror_mode": {
    "name": "ipython",
    "version": 3
   },
   "file_extension": ".py",
   "mimetype": "text/x-python",
   "name": "python",
   "nbconvert_exporter": "python",
   "pygments_lexer": "ipython3",
   "version": "3.9.12"
  }
 },
 "nbformat": 4,
 "nbformat_minor": 5
}
